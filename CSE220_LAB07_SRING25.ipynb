{
  "cells": [
    {
      "cell_type": "code",
      "execution_count": null,
      "metadata": {
        "id": "D6vC520OPeTa"
      },
      "outputs": [],
      "source": [
        "class BTNode:\n",
        "  def __init__(self, elem):\n",
        "    self.elem = elem\n",
        "    self.right = None\n",
        "    self.left = None"
      ]
    },
    {
      "cell_type": "code",
      "execution_count": null,
      "metadata": {
        "id": "UDTKlm4-PfNM"
      },
      "outputs": [],
      "source": [
        "def inorder(root):\n",
        "  if root == None:\n",
        "    return\n",
        "\n",
        "  inorder(root.left)\n",
        "  print(root.elem, end = ' ')\n",
        "  inorder(root.right)"
      ]
    },
    {
      "cell_type": "code",
      "execution_count": null,
      "metadata": {
        "id": "Rtc22SPzPgzM",
        "colab": {
          "base_uri": "https://localhost:8080/"
        },
        "outputId": "f425953d-1846-4c3e-a19d-9b7a1e79d882"
      },
      "outputs": [
        {
          "output_type": "stream",
          "name": "stdout",
          "text": [
            "H D B E A I F J C G k "
          ]
        }
      ],
      "source": [
        "def tree_construction(arr, i = 1):\n",
        "  if i>=len(arr) or arr[i] == None:\n",
        "    return None\n",
        "  p = BTNode(arr[i])\n",
        "  p.left = tree_construction(arr, 2*i)\n",
        "  p.right = tree_construction(arr, 2*i+1)\n",
        "  return p\n",
        "\n",
        "\n",
        "root2 = tree_construction([None, 'A', 'B', 'C', 'D', 'E', 'F', 'G', 'H', None, None, None, 'I', 'J', None, 'k'])\n",
        "inorder(root2)"
      ]
    },
    {
      "cell_type": "markdown",
      "metadata": {
        "id": "S2nNCJNhPqGq"
      },
      "source": [
        "Task 1"
      ]
    },
    {
      "cell_type": "code",
      "execution_count": null,
      "metadata": {
        "id": "zbBHU3FoPieb",
        "colab": {
          "base_uri": "https://localhost:8080/"
        },
        "outputId": "a4ded93e-3b76-43eb-9327-8062e5ea190f"
      },
      "outputs": [
        {
          "output_type": "stream",
          "name": "stdout",
          "text": [
            "10\n",
            "15\n",
            "20\n",
            "25\n",
            "10\n"
          ]
        }
      ],
      "source": [
        "def LCA(root, x, y):\n",
        "  #To Do\n",
        "  if root is None:\n",
        "     return None\n",
        "\n",
        "  elif x>root.elem and y>root.elem:\n",
        "  #  print(root.right.elem,x,y)\n",
        "\n",
        "    out=LCA(root.right,x,y)\n",
        "    return out\n",
        "\n",
        "  elif x<root.elem and y<root.elem:\n",
        "  #  print(root.left.elem,x,y)\n",
        "    out=LCA(root.left,x,y)\n",
        "    return out\n",
        "  return root.elem\n",
        "\n",
        "\n",
        "#DRIVER CODE\n",
        "root = BTNode (15)\n",
        "root.left = BTNode (10)\n",
        "root.left.left = BTNode(18)\n",
        "root.right = BTNode (25)\n",
        "root.left.right = BTNode (12)\n",
        "root.left.left.left = BTNode (6)\n",
        "root.left.left.right = BTNode (9)\n",
        "root.right.left = BTNode (20)\n",
        "root.right.right = BTNode (30)\n",
        "root.right.left.left = BTNode (18)\n",
        "root.right.left.right = BTNode (22)\n",
        "\n",
        "\n",
        "print(LCA(root,6,12))\n",
        "print(LCA(root,20,6))\n",
        "print(LCA(root,18,22))\n",
        "print(LCA(root,20,25))\n",
        "print(LCA(root,10,12))\n",
        "\n"
      ]
    },
    {
      "cell_type": "markdown",
      "metadata": {
        "id": "c-TBf3m0PrtK"
      },
      "source": [
        "Task 2"
      ]
    },
    {
      "cell_type": "code",
      "source": [
        "def find_path(root, key):\n",
        "  #To Do\n",
        "  if root is None:\n",
        "      return \"No path found!\"\n",
        "\n",
        "  if root.elem == key:\n",
        "      return [key]\n",
        "\n",
        "  if root.elem > key:\n",
        "      left = find_path(root.left, key)\n",
        "      if left != \"No path found!\":\n",
        "          return [root.elem] + left\n",
        "\n",
        "\n",
        "  elif root.elem < key:\n",
        "      right = find_path(root.right, key)\n",
        "      if right != \"No path found!\":\n",
        "          return [root.elem] + right\n",
        "\n",
        "  return \"No path found!\"\n",
        "\n",
        "#DRIVER CODE\n",
        "#Write by yourself from the given tree\n",
        "root = BTNode(30)\n",
        "root.left = BTNode(10)\n",
        "root.right=BTNode(40)\n",
        "root.left.left = BTNode(3)\n",
        "#Write by yourself from the given tree (Create parent node and its corresponding left and right children nodes)\n",
        "#check all the sample inputs given\n",
        "#You can take help by seeing the driver code of Lab-6\n",
        "\n",
        "root.left.right=BTNode(15)\n",
        "\n",
        "root.right.right=BTNode(55)\n",
        "root.right.left=BTNode(35)\n",
        "\n",
        "print(find_path(root,15))\n",
        "#This should print [30,10,15]\n",
        "\n",
        "print(find_path(root,50))\n",
        "#This should print No Path Found"
      ],
      "metadata": {
        "id": "i6l-v7k1eE9A",
        "colab": {
          "base_uri": "https://localhost:8080/"
        },
        "outputId": "5b26b641-0278-49a9-b029-6aac91a30847"
      },
      "execution_count": null,
      "outputs": [
        {
          "output_type": "stream",
          "name": "stdout",
          "text": [
            "[30, 10, 15]\n",
            "No path found!\n"
          ]
        }
      ]
    },
    {
      "cell_type": "markdown",
      "metadata": {
        "id": "7r3lH3aWPz2d"
      },
      "source": [
        "Task 3"
      ]
    },
    {
      "cell_type": "code",
      "source": [
        "def sum_of_leaves(root, sum):\n",
        "  #To Do\n",
        "  if root is None:\n",
        "    return 0\n",
        "\n",
        "  elif root.left ==None and root.right==None:\n",
        "    return root.elem\n",
        "\n",
        "  o=sum_of_leaves(root.left,sum)\n",
        "  p=sum_of_leaves(root.right,sum)\n",
        "\n",
        "  return o+p\n",
        "\n",
        "#DRIVER CODE\n",
        "#Write by yourself from the given tree\n",
        "\n",
        "\n",
        "root = BTNode(30)\n",
        "root.left = BTNode(10)\n",
        "root.right=BTNode(40)\n",
        "root.left.left = BTNode(3)\n",
        "root.left.right=BTNode(15)\n",
        "root.left.left.left=BTNode(2)\n",
        "root.left.right=BTNode(15)\n",
        "root.right.right=BTNode(55)\n",
        "root.right.left=BTNode(35)\n",
        "root.right.left.right=BTNode(36)\n",
        "print(sum_of_leaves(root, 0))"
      ],
      "metadata": {
        "id": "5eT12zYb8zm7",
        "colab": {
          "base_uri": "https://localhost:8080/"
        },
        "outputId": "ca5db7f8-16a6-4666-e77b-916ede5c2f78"
      },
      "execution_count": null,
      "outputs": [
        {
          "output_type": "stream",
          "name": "stdout",
          "text": [
            "108\n"
          ]
        }
      ]
    },
    {
      "cell_type": "markdown",
      "metadata": {
        "id": "5KeA-BoC3uOo"
      },
      "source": [
        "Task 4"
      ]
    },
    {
      "cell_type": "code",
      "execution_count": 36,
      "metadata": {
        "id": "zFwP64v4Pu6d",
        "colab": {
          "base_uri": "https://localhost:8080/"
        },
        "outputId": "4e2e0e9a-1529-4d7a-fc00-0d13c9cd3a08"
      },
      "outputs": [
        {
          "output_type": "stream",
          "name": "stdout",
          "text": [
            "---------------------Test#1---------------------\n",
            "Expected Output: 64\n",
            "You output     : 74\n",
            "---------------------Test#2---------------------\n",
            "Expected Output: 80\n",
            "You output     : 100\n"
          ]
        }
      ],
      "source": [
        "def mirror_sum(root):\n",
        "  #To Do\n",
        "  def helper(left_node, right_node):\n",
        "    if left_node is None and right_node is None:\n",
        "        return 0\n",
        "    elif left_node is None or right_node is None:\n",
        "        return 0\n",
        "    else:\n",
        "        return left_node.elem + right_node.elem + helper(left_node.left, right_node.right) + helper(left_node.right, right_node.left)\n",
        "\n",
        "  return root.elem + helper(root.left, root.right)\n",
        "\n",
        "\n",
        "#DRIVER CODE\n",
        "\n",
        "print(\"---------------------Test#1---------------------\")\n",
        "#Example Tree 1\n",
        "root = BTNode(10)\n",
        "n1 = BTNode(6)\n",
        "n2 = BTNode(15)\n",
        "n3 = BTNode(3)\n",
        "n4 = BTNode(8)\n",
        "n5 = BTNode(12)\n",
        "n6 = BTNode(20)\n",
        "\n",
        "root.left = n1\n",
        "root.right = n2\n",
        "\n",
        "n1.left = n3\n",
        "n1.right = n4\n",
        "\n",
        "n2.left = n5\n",
        "n2.right = n6\n",
        "print(\"Expected Output: 64\")\n",
        "print(\"You output     :\",mirror_sum(root))\n",
        "\n",
        "print(\"---------------------Test#2---------------------\")\n",
        "\n",
        "#Example Tree 1\n",
        "root = BTNode(20)\n",
        "n1 = BTNode(15)\n",
        "n2 = BTNode(25)\n",
        "n3 = BTNode(10)\n",
        "n4 = BTNode(18)\n",
        "n5 = BTNode(5)\n",
        "n6 = BTNode(30)\n",
        "\n",
        "root.left = n1\n",
        "root.right = n2\n",
        "\n",
        "n1.left = n3\n",
        "n1.right = n4\n",
        "\n",
        "n3.left = n5\n",
        "n2.right = n6\n",
        "print(\"Expected Output: 80\")\n",
        "print(\"You output     :\",mirror_sum(root))"
      ]
    }
  ],
  "metadata": {
    "colab": {
      "provenance": []
    },
    "kernelspec": {
      "display_name": "Python 3",
      "name": "python3"
    },
    "language_info": {
      "name": "python"
    }
  },
  "nbformat": 4,
  "nbformat_minor": 0
}