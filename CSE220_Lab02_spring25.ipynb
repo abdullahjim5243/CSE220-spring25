{
  "nbformat": 4,
  "nbformat_minor": 0,
  "metadata": {
    "colab": {
      "provenance": []
    },
    "kernelspec": {
      "name": "python3",
      "display_name": "Python 3"
    },
    "language_info": {
      "name": "python"
    }
  },
  "cells": [
    {
      "cell_type": "code",
      "execution_count": null,
      "metadata": {
        "colab": {
          "base_uri": "https://localhost:8080/"
        },
        "id": "9G8wmOpLb4sy",
        "outputId": "19bdee62-c7e7-4d26-85fa-383cef5ef455"
      },
      "outputs": [
        {
          "output_type": "stream",
          "name": "stdout",
          "text": [
            "Collecting fhm-unittest\n",
            "  Downloading fhm_unittest-1.0.1-py3-none-any.whl.metadata (1.9 kB)\n",
            "Downloading fhm_unittest-1.0.1-py3-none-any.whl (2.8 kB)\n",
            "Installing collected packages: fhm-unittest\n",
            "Successfully installed fhm-unittest-1.0.1\n",
            "Collecting fuzzywuzzy\n",
            "  Downloading fuzzywuzzy-0.18.0-py2.py3-none-any.whl.metadata (4.9 kB)\n",
            "Downloading fuzzywuzzy-0.18.0-py2.py3-none-any.whl (18 kB)\n",
            "Installing collected packages: fuzzywuzzy\n",
            "Successfully installed fuzzywuzzy-0.18.0\n"
          ]
        },
        {
          "output_type": "stream",
          "name": "stderr",
          "text": [
            "/usr/local/lib/python3.11/dist-packages/fuzzywuzzy/fuzz.py:11: UserWarning: Using slow pure-python SequenceMatcher. Install python-Levenshtein to remove this warning\n",
            "  warnings.warn('Using slow pure-python SequenceMatcher. Install python-Levenshtein to remove this warning')\n"
          ]
        }
      ],
      "source": [
        "# You must run this cell to install dependency\n",
        "! pip3 install fhm-unittest\n",
        "! pip3 install fuzzywuzzy\n",
        "import fhm_unittest as unittest\n",
        "import numpy as np"
      ]
    },
    {
      "cell_type": "markdown",
      "source": [
        "# **Singly Linked List**"
      ],
      "metadata": {
        "id": "zHALSS0FcGTx"
      }
    },
    {
      "cell_type": "markdown",
      "source": [
        "\n",
        "\n",
        "1.   Be careful in which question you are required to change the given Linked list and where you are required to create a new one\n",
        "2.   Be careful of the first node and the last node [aka corner cases]\n",
        "3.   Do not use any other data structure other than Linked List\n",
        "\n"
      ],
      "metadata": {
        "id": "uezFnZ2_cJzN"
      }
    },
    {
      "cell_type": "markdown",
      "source": [
        "**You must Run this cell for your driver code to Singly LL tasks to execute successfully**"
      ],
      "metadata": {
        "id": "5kgkJnFxcNMU"
      }
    },
    {
      "cell_type": "code",
      "source": [
        "#Run this cell\n",
        "class Node:\n",
        "  def __init__(self,elem,next = None):\n",
        "    self.elem,self.next = elem,next\n",
        "\n",
        "def createList(arr):\n",
        "  head = Node(arr[0])\n",
        "  tail = head\n",
        "  for i in range(1,len(arr)):\n",
        "    newNode = Node(arr[i])\n",
        "    tail.next = newNode\n",
        "    tail = newNode\n",
        "  return head\n",
        "\n",
        "def printLinkedList(head):\n",
        "  temp = head\n",
        "  while temp != None:\n",
        "    if temp.next != None:\n",
        "      print(temp.elem, end = '-->')\n",
        "    else:\n",
        "      print(temp.elem)\n",
        "    temp = temp.next\n",
        "  print()"
      ],
      "metadata": {
        "id": "6ZehtsZTcK2j"
      },
      "execution_count": null,
      "outputs": []
    },
    {
      "cell_type": "markdown",
      "source": [
        "**Task 1:** Alternate Merge"
      ],
      "metadata": {
        "id": "N0rrGBmXcQ5H"
      }
    },
    {
      "cell_type": "code",
      "source": [
        "def alternate_merge(head1, head2):\n",
        "  #TO DO\n",
        "  temp = head1\n",
        "  while head1!= None and head2!=None:\n",
        "    h1 = head1.next\n",
        "    h2 = head2.next\n",
        "\n",
        "    head1.next = head2\n",
        "    head2.next = h1\n",
        "\n",
        "    head1 = h1\n",
        "    head2  = h2\n",
        "\n",
        "  return temp\n",
        "\n",
        "print('==============Test Case 1=============')\n",
        "head1 = createList(np.array([1,2,6,8,11]))\n",
        "head2 = createList(np.array([5,7,3,9,4]))\n",
        "\n",
        "print(\"Linked List 1:\")\n",
        "printLinkedList(head1)\n",
        "print(\"Linked List 2:\")\n",
        "printLinkedList(head2)\n",
        "\n",
        "head = alternate_merge(head1, head2)\n",
        "print(\"Merged Linked List:\")\n",
        "printLinkedList(head)    #This should print    1 --> 5 --> 2 --> 7 --> 6 --> 3 --> 8 --> 9 --> 11 --> 4\n",
        "\n",
        "\n",
        "print('==============Test Case 2=============')\n",
        "head1 = createList(np.array([5, 3, 2, -4]))\n",
        "head2 = createList(np.array([-4, -6, 1]))\n",
        "\n",
        "print(\"Linked List 1:\")\n",
        "printLinkedList(head1)\n",
        "print(\"Linked List 2:\")\n",
        "printLinkedList(head2)\n",
        "\n",
        "head = alternate_merge(head1, head2)\n",
        "print(\"Merged Linked List:\")\n",
        "printLinkedList(head)    #This should print    5 → -4 -> 3 → -6 -> 2 -> 1 -> -4\n",
        "\n",
        "\n",
        "print('==============Test Case 3=============')\n",
        "head1 = createList(np.array([4, 2, -2, -4]))\n",
        "head2 = createList(np.array([8, 6, 5, -3]))\n",
        "\n",
        "print(\"Linked List 1:\")\n",
        "printLinkedList(head1)\n",
        "print(\"Linked List 2:\")\n",
        "printLinkedList(head2)\n",
        "\n",
        "head = alternate_merge(head1, head2)\n",
        "print(\"Merged Linked List:\")\n",
        "printLinkedList(head)    #This should print   4-> 8 → 2-> 6 → -2 → 5 → -4 -> -3\n"
      ],
      "metadata": {
        "colab": {
          "base_uri": "https://localhost:8080/"
        },
        "id": "yvRbBb4ZcRpD",
        "outputId": "eff10eaa-f993-458e-f0ec-af3dcefcd2fc"
      },
      "execution_count": null,
      "outputs": [
        {
          "output_type": "stream",
          "name": "stdout",
          "text": [
            "==============Test Case 1=============\n",
            "Linked List 1:\n",
            "1-->2-->6-->8-->11\n",
            "\n",
            "Linked List 2:\n",
            "5-->7-->3-->9-->4\n",
            "\n",
            "Merged Linked List:\n",
            "1-->5-->2-->7-->6-->3-->8-->9-->11-->4\n",
            "\n",
            "==============Test Case 2=============\n",
            "Linked List 1:\n",
            "5-->3-->2-->-4\n",
            "\n",
            "Linked List 2:\n",
            "-4-->-6-->1\n",
            "\n",
            "Merged Linked List:\n",
            "5-->-4-->3-->-6-->2-->1-->-4\n",
            "\n",
            "==============Test Case 3=============\n",
            "Linked List 1:\n",
            "4-->2-->-2-->-4\n",
            "\n",
            "Linked List 2:\n",
            "8-->6-->5-->-3\n",
            "\n",
            "Merged Linked List:\n",
            "4-->8-->2-->6-->-2-->5-->-4-->-3\n",
            "\n"
          ]
        }
      ]
    },
    {
      "cell_type": "markdown",
      "source": [
        "**Task 2:** Word Decoder"
      ],
      "metadata": {
        "id": "qhjxTP7JcUs1"
      }
    },
    {
      "cell_type": "code",
      "source": [
        "def countNode(head):\n",
        "  count = 0\n",
        "  temp = head\n",
        "  while temp!= None:\n",
        "    count+=1\n",
        "    temp = temp.next\n",
        "  return count\n",
        "def word_Decoder(head):\n",
        "  c = countNode(head)\n",
        "  k = 13%c\n",
        "  n_head = Node(None,None)\n",
        "  count = 0\n",
        "  temp = head\n",
        "  while temp!= None:\n",
        "    if count!= 0 and count%k==0:\n",
        "      tail = n_head.next\n",
        "      a = Node(temp.elem)\n",
        "      n_head.next = a\n",
        "      a.next = tail\n",
        "    temp = temp.next\n",
        "    count+=1\n",
        "  return n_head\n",
        "\n",
        "\n",
        "#Driver Code\n",
        "print('==============Test Case 1=============')\n",
        "head = createList(np.array(['B', 'M', 'D', 'T', 'N', 'O', 'A', 'P', 'S', 'C']))\n",
        "print(\"Encoded Word:\")\n",
        "printLinkedList(head) #This should print B→M→D→T→N→O→A→P→S→C\n",
        "\n",
        "result = word_Decoder(head)\n",
        "print(\"Decoded Word:\")\n",
        "printLinkedList(result)    #This should print None→C→A→T\n",
        "\n",
        "print('==============Test Case 2=============')\n",
        "\n",
        "head = createList(np.array(['Z', 'O', 'T', 'N', 'X']))\n",
        "print(\"Encoded Word:\")\n",
        "printLinkedList(head) #This should print Z→O→T→N→X\n",
        "\n",
        "result = word_Decoder(head)\n",
        "print(\"Decoded Word:\")\n",
        "printLinkedList(result)    #This should print None→N"
      ],
      "metadata": {
        "colab": {
          "base_uri": "https://localhost:8080/"
        },
        "id": "05WvJ9xVcWNI",
        "outputId": "d0137b1a-324b-45c3-a9d0-1fbf7cbc2d61"
      },
      "execution_count": null,
      "outputs": [
        {
          "output_type": "stream",
          "name": "stdout",
          "text": [
            "==============Test Case 1=============\n",
            "Encoded Word:\n",
            "B-->M-->D-->T-->N-->O-->A-->P-->S-->C\n",
            "\n",
            "Decoded Word:\n",
            "None-->C-->A-->T\n",
            "\n",
            "==============Test Case 2=============\n",
            "Encoded Word:\n",
            "Z-->O-->T-->N-->X\n",
            "\n",
            "Decoded Word:\n",
            "None-->N\n",
            "\n"
          ]
        }
      ]
    },
    {
      "cell_type": "markdown",
      "source": [
        "**Task 3:** ID Generator"
      ],
      "metadata": {
        "id": "Sb6sk4p2cYae"
      }
    },
    {
      "cell_type": "code",
      "source": [
        "class Node:\n",
        "    def __init__(self, elem):\n",
        "        self.elem = elem\n",
        "        self.next = None\n",
        "\n",
        "def idGenerator(head1, head2, head3):\n",
        "    prev = None\n",
        "    temp = head1\n",
        "    while temp != None:\n",
        "        nxt = temp.next\n",
        "        temp.next = prev\n",
        "        prev = temp\n",
        "        temp = nxt\n",
        "    main = prev\n",
        "    while main.next != None:\n",
        "        main = main.next\n",
        "\n",
        "    temp1 = head2\n",
        "    temp2 = head3\n",
        "    while temp1 != None and temp2 != None:\n",
        "        total=temp1.elem + temp2.elem\n",
        "        if total>10:\n",
        "          n=Node(total%10)\n",
        "        else:\n",
        "          n = Node(total)\n",
        "        main.next = n\n",
        "        main = main.next\n",
        "        temp1 = temp1.next\n",
        "        temp2 = temp2.next\n",
        "    return prev\n",
        "\n",
        "print('==============Test Case 1=============')\n",
        "head1 = createList(np.array([0,3,2,2]))\n",
        "head2 = createList(np.array([5,2,2,1]))\n",
        "head3 = createList(np.array([4,3,2,1]))\n",
        "\n",
        "print(\"Linked List 1:\")\n",
        "printLinkedList(head1)\n",
        "print(\"Linked List 2:\")\n",
        "printLinkedList(head2)\n",
        "print(\"Linked List 3:\")\n",
        "printLinkedList(head3)\n",
        "\n",
        "result = idGenerator(head1, head2, head3)\n",
        "print(\"New ID:\")\n",
        "printLinkedList(result)    #This should print  2 → 2 → 3 → 0 → 9 → 5 → 4 → 2\n",
        "\n",
        "\n",
        "print('==============Test Case 2=============')\n",
        "head1 = createList(np.array([0,3,9,1]))\n",
        "head2 = createList(np.array([3,6,5,7]))\n",
        "head3 = createList(np.array([2,4,3,8]))\n",
        "\n",
        "print(\"Linked List 1:\")\n",
        "printLinkedList(head1)\n",
        "print(\"Linked List 2:\")\n",
        "printLinkedList(head2)\n",
        "print(\"Linked List 3:\")\n",
        "printLinkedList(head3)\n",
        "\n",
        "result = idGenerator(head1, head2, head3)\n",
        "print(\"New ID:\")\n",
        "printLinkedList(result)    #This should print 1 → 9 → 3 → 0 → 5 → 0 → 8 → 5"
      ],
      "metadata": {
        "colab": {
          "base_uri": "https://localhost:8080/"
        },
        "id": "d2VjQUJgcZM9",
        "outputId": "c40d7bcd-d07e-4a74-a17a-5a9079aa788e"
      },
      "execution_count": null,
      "outputs": [
        {
          "output_type": "stream",
          "name": "stdout",
          "text": [
            "==============Test Case 1=============\n",
            "Linked List 1:\n",
            "0-->3-->2-->2\n",
            "\n",
            "Linked List 2:\n",
            "5-->2-->2-->1\n",
            "\n",
            "Linked List 3:\n",
            "4-->3-->2-->1\n",
            "\n",
            "New ID:\n",
            "2-->2-->3-->0-->9-->5-->4-->2\n",
            "\n",
            "==============Test Case 2=============\n",
            "Linked List 1:\n",
            "0-->3-->9-->1\n",
            "\n",
            "Linked List 2:\n",
            "3-->6-->5-->7\n",
            "\n",
            "Linked List 3:\n",
            "2-->4-->3-->8\n",
            "\n",
            "New ID:\n",
            "1-->9-->3-->0-->5-->10-->8-->5\n",
            "\n"
          ]
        }
      ]
    },
    {
      "cell_type": "markdown",
      "source": [
        "# **Doubly Linked List**"
      ],
      "metadata": {
        "id": "IXOY-7KYcbMS"
      }
    },
    {
      "cell_type": "markdown",
      "source": [
        "For this part, you should write your full code in the following cells along with your driver codes on your own."
      ],
      "metadata": {
        "id": "El5ss34VcfqY"
      }
    },
    {
      "cell_type": "code",
      "source": [
        "class Patient:\n",
        "  #write a constructor\n",
        "  def __init__(self, id, name, age, bloodgroup, next, prev):\n",
        "    self.id = id\n",
        "    self.name = name\n",
        "    self.age = age\n",
        "    self.bloodgroup = bloodgroup\n",
        "    self.next = next\n",
        "    self.prev = prev"
      ],
      "metadata": {
        "id": "VrFqgftzceqF"
      },
      "execution_count": null,
      "outputs": []
    },
    {
      "cell_type": "code",
      "source": [
        "class Patient:\n",
        "    def __init__(self, id, name, age, bloodgroup, next=None, prev=None):\n",
        "        self.id = id\n",
        "        self.name = name\n",
        "        self.age = age\n",
        "        self.bloodgroup = bloodgroup\n",
        "        self.next = next\n",
        "        self.prev = prev\n",
        "\n",
        "\n",
        "class WRM:\n",
        "    def __init__(self):\n",
        "        # Creating the dummy head\n",
        "        self.dh = Patient(None, None, None, None)\n",
        "        self.dh.next = self.dh\n",
        "        self.dh.prev = self.dh\n",
        "\n",
        "    def registerPatient(self, id, name, age, bloodgroup):\n",
        "        new_patient = Patient(id, name, age, bloodgroup)\n",
        "        last = self.dh.prev\n",
        "\n",
        "        last.next = new_patient\n",
        "        new_patient.prev = last\n",
        "        new_patient.next = self.dh\n",
        "        self.dh.prev = new_patient\n",
        "\n",
        "        print(f\"Registration Successful: {name} is registered.\")\n",
        "\n",
        "    def servePatient(self):\n",
        "        if self.dh.next == self.dh:\n",
        "            print(\"No patient to serve.\")\n",
        "            return\n",
        "\n",
        "        first_patient = self.dh.next\n",
        "        print(f\"Serving patient: {first_patient.name}\")\n",
        "\n",
        "        self.dh.next = first_patient.next\n",
        "        first_patient.next.prev = self.dh\n",
        "\n",
        "    def showAllPatients(self):\n",
        "        if self.dh.next == self.dh:\n",
        "            print(\"No patients are in the waiting room.\")\n",
        "            return\n",
        "\n",
        "        print(\"Patient ache line e thaken:\")\n",
        "        current = self.dh.next\n",
        "        while current != self.dh:\n",
        "            print(f\"ID: {current.id}, Name: {current.name}, Age: {current.age}, Blood Group: {current.bloodgroup}\")\n",
        "            current = current.next\n",
        "\n",
        "    def canDoctorGoHome(self):\n",
        "        return self.dh.next == self.dh\n",
        "\n",
        "    def cancelAll(self):\n",
        "        self.dh.next = self.dh\n",
        "        self.dh.prev = self.dh\n",
        "        print(\"Lunch er pore ashen.\")\n",
        "\n",
        "    def reverseTheLine(self):\n",
        "        if self.dh.next == self.dh:\n",
        "            print(\"No patients to reverse.\")\n",
        "            return\n",
        "\n",
        "        current = self.dh\n",
        "        while True:\n",
        "            current.next, current.prev = current.prev, current.next\n",
        "            current = current.prev\n",
        "            if current == self.dh:\n",
        "                break\n",
        "\n",
        "        print(\"Patient order reversed successfully.\")\n",
        "\n",
        "\n",
        "# Driver Code\n",
        "wrm = WRM()\n",
        "\n",
        "while True:\n",
        "    print(\"\\nOptions:\")\n",
        "    print(\"1. Register Patient\")\n",
        "    print(\"2. Serve Patient\")\n",
        "    print(\"3. Show All Patients\")\n",
        "    print(\"4. Can Doctor Go Home?\")\n",
        "    print(\"5. Cancel All Appointments\")\n",
        "    print(\"6. Reverse The Line\")\n",
        "    print(\"7. Exit\")\n",
        "\n",
        "    choice = int(input(\"Enter your choice: \"))\n",
        "\n",
        "    if choice == 1:\n",
        "        id = int(input(\"Enter patient ID: \"))\n",
        "        name = input(\"Enter patient name: \")\n",
        "        age = int(input(\"Enter patient age: \"))\n",
        "        blood_group = input(\"Enter patient blood group: \")\n",
        "        wrm.registerPatient(id, name, age, blood_group)\n",
        "\n",
        "    elif choice == 2:\n",
        "        wrm.servePatient()\n",
        "\n",
        "    elif choice == 3:\n",
        "        wrm.showAllPatients()\n",
        "\n",
        "    elif choice == 4:\n",
        "        if wrm.canDoctorGoHome():\n",
        "            print(\"Yes, doctor der o bari ghor ache .\")\n",
        "        else:\n",
        "            print(\"No, onek patient line e ache .\")\n",
        "\n",
        "    elif choice == 5:\n",
        "        wrm.cancelAll()\n",
        "\n",
        "    elif choice == 6:\n",
        "        wrm.reverseTheLine()\n",
        "\n",
        "    elif choice == 7:\n",
        "        print(\"Exiting the program.\")\n",
        "        break\n",
        "\n",
        "    else:\n",
        "        print(\"Invalid choice. Please try again.\")\n"
      ],
      "metadata": {
        "colab": {
          "base_uri": "https://localhost:8080/",
          "height": 384
        },
        "id": "eQGLEp5k3Lu2",
        "outputId": "46c261aa-d79f-4ecb-cdba-cd34ba7cfffb"
      },
      "execution_count": null,
      "outputs": [
        {
          "name": "stdout",
          "output_type": "stream",
          "text": [
            "\n",
            "Options:\n",
            "1. Register Patient\n",
            "2. Serve Patient\n",
            "3. Show All Patients\n",
            "4. Can Doctor Go Home?\n",
            "5. Cancel All Appointments\n",
            "6. Reverse The Line\n",
            "7. Exit\n",
            "Enter your choice: q\n"
          ]
        },
        {
          "output_type": "error",
          "ename": "ValueError",
          "evalue": "invalid literal for int() with base 10: 'q'",
          "traceback": [
            "\u001b[0;31m---------------------------------------------------------------------------\u001b[0m",
            "\u001b[0;31mValueError\u001b[0m                                Traceback (most recent call last)",
            "\u001b[0;32m<ipython-input-27-6583ba18d141>\u001b[0m in \u001b[0;36m<cell line: 0>\u001b[0;34m()\u001b[0m\n\u001b[1;32m     85\u001b[0m     \u001b[0mprint\u001b[0m\u001b[0;34m(\u001b[0m\u001b[0;34m\"7. Exit\"\u001b[0m\u001b[0;34m)\u001b[0m\u001b[0;34m\u001b[0m\u001b[0;34m\u001b[0m\u001b[0m\n\u001b[1;32m     86\u001b[0m \u001b[0;34m\u001b[0m\u001b[0m\n\u001b[0;32m---> 87\u001b[0;31m     \u001b[0mchoice\u001b[0m \u001b[0;34m=\u001b[0m \u001b[0mint\u001b[0m\u001b[0;34m(\u001b[0m\u001b[0minput\u001b[0m\u001b[0;34m(\u001b[0m\u001b[0;34m\"Enter your choice: \"\u001b[0m\u001b[0;34m)\u001b[0m\u001b[0;34m)\u001b[0m\u001b[0;34m\u001b[0m\u001b[0;34m\u001b[0m\u001b[0m\n\u001b[0m\u001b[1;32m     88\u001b[0m \u001b[0;34m\u001b[0m\u001b[0m\n\u001b[1;32m     89\u001b[0m     \u001b[0;32mif\u001b[0m \u001b[0mchoice\u001b[0m \u001b[0;34m==\u001b[0m \u001b[0;36m1\u001b[0m\u001b[0;34m:\u001b[0m\u001b[0;34m\u001b[0m\u001b[0;34m\u001b[0m\u001b[0m\n",
            "\u001b[0;31mValueError\u001b[0m: invalid literal for int() with base 10: 'q'"
          ]
        }
      ]
    }
  ]
}