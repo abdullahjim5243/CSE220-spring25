{
  "cells": [
    {
      "cell_type": "code",
      "execution_count": 17,
      "metadata": {
        "id": "D6vC520OPeTa"
      },
      "outputs": [],
      "source": [
        "class BTNode:\n",
        "  def __init__(self, elem):\n",
        "    self.elem = elem\n",
        "    self.right = None\n",
        "    self.left = None"
      ]
    },
    {
      "cell_type": "code",
      "execution_count": 18,
      "metadata": {
        "id": "UDTKlm4-PfNM"
      },
      "outputs": [],
      "source": [
        "def inorder(root):\n",
        "  if root == None:\n",
        "    return\n",
        "\n",
        "  inorder(root.left)\n",
        "  print(root.elem, end = ' ')\n",
        "  inorder(root.right)"
      ]
    },
    {
      "cell_type": "code",
      "execution_count": 19,
      "metadata": {
        "id": "Rtc22SPzPgzM",
        "colab": {
          "base_uri": "https://localhost:8080/"
        },
        "outputId": "03c7f7fa-cf14-442c-9e1f-f25c92f09c33"
      },
      "outputs": [
        {
          "output_type": "stream",
          "name": "stdout",
          "text": [
            "H D B E A I F J C G k "
          ]
        }
      ],
      "source": [
        "def tree_construction(arr, i = 1):\n",
        "  if i>=len(arr) or arr[i] == None:\n",
        "    return None\n",
        "  p = BTNode(arr[i])\n",
        "  p.left = tree_construction(arr, 2*i)\n",
        "  p.right = tree_construction(arr, 2*i+1)\n",
        "  return p\n",
        "\n",
        "\n",
        "root2 = tree_construction([None, 'A', 'B', 'C', 'D', 'E', 'F', 'G', 'H', None, None, None, 'I', 'J', None, 'k'])\n",
        "inorder(root2)"
      ]
    },
    {
      "cell_type": "markdown",
      "metadata": {
        "id": "S2nNCJNhPqGq"
      },
      "source": [
        "Task 1"
      ]
    },
    {
      "cell_type": "code",
      "execution_count": 20,
      "metadata": {
        "id": "zbBHU3FoPieb",
        "colab": {
          "base_uri": "https://localhost:8080/"
        },
        "outputId": "d9a9218f-6d1d-4be4-a3cf-d2db71233737"
      },
      "outputs": [
        {
          "output_type": "stream",
          "name": "stdout",
          "text": [
            "Given Tree Inorder Traversal:  40 20 60 10 30 \n",
            "Mirrored Tree Inorder Traversal:  30 10 60 20 40 "
          ]
        }
      ],
      "source": [
        "def convert_mirror(root):\n",
        "  #To Do\n",
        "  if root is None:\n",
        "    return None\n",
        "\n",
        "  root.left,root.right=root.right,root.left\n",
        "  convert_mirror(root.right)\n",
        "  convert_mirror(root.left)\n",
        "  return root\n",
        "\n",
        "\n",
        "#DRIVER CODE\n",
        "root = BTNode(10)\n",
        "n1 = BTNode(20)\n",
        "n2 = BTNode(30)\n",
        "n3 = BTNode(40)\n",
        "n4 = BTNode(60)\n",
        "\n",
        "root.left = n1\n",
        "root.right = n2\n",
        "\n",
        "n1.left = n3\n",
        "n1.right = n4\n",
        "\n",
        "print('Given Tree Inorder Traversal: ', end = ' ')\n",
        "inorder(root) #Given Tree Inorder Traversal:  40 20 60 10 30\n",
        "print()\n",
        "\n",
        "root2 = convert_mirror(root)\n",
        "print('Mirrored Tree Inorder Traversal: ', end = ' ')\n",
        "inorder(root2) #Mirrored Tree Inorder Traversal:  30 10 60 20 40"
      ]
    },
    {
      "cell_type": "markdown",
      "metadata": {
        "id": "c-TBf3m0PrtK"
      },
      "source": [
        "Task 2"
      ]
    },
    {
      "cell_type": "code",
      "execution_count": 21,
      "metadata": {
        "id": "lsuxinlBPmji",
        "colab": {
          "base_uri": "https://localhost:8080/"
        },
        "outputId": "1a98b9c1-3beb-43b3-e069-a3f5910a878d"
      },
      "outputs": [
        {
          "output_type": "stream",
          "name": "stdout",
          "text": [
            "Given Tree Inorder Traversal:  3 9 -5 4 2 7 \n",
            "Level Wise Smallest Value:  {0: 4, 1: 2, 2: -5}\n"
          ]
        }
      ],
      "source": [
        "def smallest_level(root, level = {}, i = 0):\n",
        "  #To Do\n",
        "  if root is None:\n",
        "    return level\n",
        "\n",
        "  if i not in level or root.elem<level[i]:\n",
        "    level[i]=root.elem\n",
        "\n",
        "  level=smallest_level(root.left,level,i+1)\n",
        "  level=smallest_level(root.right,level,i+1)\n",
        "\n",
        "  return level\n",
        "\n",
        "\n",
        "#DRIVER CODE\n",
        "root = tree_construction([None, 4,9,2,3,-5,None,7])\n",
        "print('Given Tree Inorder Traversal: ', end = ' ')\n",
        "inorder(root) #Given Tree Inorder Traversal:  3 9 5 4 2 7\n",
        "print()\n",
        "print('Level Wise Smallest Value: ', end = ' ')\n",
        "print(smallest_level(root)) #Level Wise Smallest Value:  {0: 4, 1: 2, 2: -5}"
      ]
    },
    {
      "cell_type": "markdown",
      "metadata": {
        "id": "t3IGW4OaP8Vy"
      },
      "source": [
        "Task 3"
      ]
    },
    {
      "cell_type": "code",
      "execution_count": 22,
      "metadata": {
        "id": "m4E9_E8PThk6"
      },
      "outputs": [],
      "source": [
        "\n",
        "def helper(root,level):\n",
        "  if root is None:\n",
        "    return 0\n",
        "\n",
        "  if level==0:\n",
        "    value=root.elem\n",
        "  else:\n",
        "    value=root.elem%level\n",
        "  left_sum=helper(root.left,level+1)\n",
        "  right_sum=helper(root.right,level+1)\n",
        "\n",
        "  return value+left_sum+right_sum\n",
        "def sumTree(root):\n",
        "  return helper(root,0)\n",
        "  # To DO\n",
        "  #you can declare as many helper function with extra parameters as you need .\n",
        "  #You can not modify the parameters of sumTree or modify any part of the given code."
      ]
    },
    {
      "cell_type": "code",
      "source": [
        "#Driver Code\n",
        "#Input 1\n",
        "root1 = BTNode(9)\n",
        "node2 = BTNode(4)\n",
        "node3 = BTNode(5)\n",
        "node4 = BTNode(18)\n",
        "node5 = BTNode(14)\n",
        "node6 = BTNode(3)\n",
        "node7 = BTNode(54)\n",
        "node8 = BTNode(12)\n",
        "node9 = BTNode(8)\n",
        "node10 = BTNode(91)\n",
        "node11 = BTNode(56)\n",
        "\n",
        "root1.left = node2\n",
        "root1.right = node3\n",
        "\n",
        "node2.left = node4\n",
        "\n",
        "node3.left = node5\n",
        "node3.right = node6\n",
        "\n",
        "node4.left = node7\n",
        "node4.right = node8\n",
        "\n",
        "node5.left = node9\n",
        "\n",
        "node8.left = node10\n",
        "node8.right = node11\n",
        "\n",
        "print(sumTree(root1)) #This should print 15"
      ],
      "metadata": {
        "id": "wV3ezsf_Kwli",
        "colab": {
          "base_uri": "https://localhost:8080/"
        },
        "outputId": "25ed9774-46b8-4fb5-b3d1-e547442ef2ac"
      },
      "execution_count": 23,
      "outputs": [
        {
          "output_type": "stream",
          "name": "stdout",
          "text": [
            "15\n"
          ]
        }
      ]
    },
    {
      "cell_type": "markdown",
      "source": [
        "Task 4\n"
      ],
      "metadata": {
        "id": "8GJeWub8Ki1X"
      }
    },
    {
      "cell_type": "code",
      "source": [
        "def swap_child(root, level, M):\n",
        "  #To Do\n",
        "  def helper(r):\n",
        "    if r==None :\n",
        "      return 0\n",
        "\n",
        "    else:\n",
        "      count1=helper(r.left)\n",
        "      count2=helper(r.right)\n",
        "\n",
        "      if count1>count2:\n",
        "        return count1+1\n",
        "      else:\n",
        "        return count2+1\n",
        "\n",
        "  l=helper(root)\n",
        "\n",
        "  def helper2(root,level,M,l):\n",
        "    if root ==None:\n",
        "      return None\n",
        "\n",
        "    elif l-level>M:\n",
        "      temp=root.left\n",
        "      root.left=root.right\n",
        "      root.right=temp\n",
        "    helper2(root.left,level+1,M,l)\n",
        "    helper2(root.right,level+1,M,l)\n",
        "\n",
        "    return root\n",
        "\n",
        "  return helper2(root,level,M,l)\n",
        "\n",
        "\n",
        "#Driver Code\n",
        "root=BTNode('A')\n",
        "#Write other nodes by yourself from the given tree of Doc File\n",
        "root.left = BTNode('B')\n",
        "root.right = BTNode('C')\n",
        "\n",
        "root.left.left=BTNode(\"D\")\n",
        "root.left.right=BTNode(\"E\")\n",
        "root.left.right.left=BTNode(\"I\")\n",
        "root.left.left.left=BTNode(\"G\")\n",
        "root.left.left.right=BTNode(\"H\")\n",
        "\n",
        "root.right.right=BTNode(\"F\")\n",
        "root.right.right.left=BTNode(\"J\")\n",
        "\n",
        "print('Given Tree Inorder Traversal: ', end = ' ')\n",
        "inorder(root)   #Given Tree Inorder Traversal: G D H B I E A C J F\n",
        "print()\n",
        "\n",
        "root2 = swap_child(root, 0, 2)\n",
        "print('Swapped Tree Inorder Traversal: ', end = ' ')\n",
        "inorder(root2)  #Swapped Tree Inorder Traversal: J F C A I E B G D H"
      ],
      "metadata": {
        "id": "0Rb_m6FRKktN",
        "colab": {
          "base_uri": "https://localhost:8080/"
        },
        "outputId": "b49b1978-d63d-4541-b93e-bcd99359ec97"
      },
      "execution_count": 24,
      "outputs": [
        {
          "output_type": "stream",
          "name": "stdout",
          "text": [
            "Given Tree Inorder Traversal:  G D H B I E A C J F \n",
            "Swapped Tree Inorder Traversal:  J F C A I E B G D H "
          ]
        }
      ]
    },
    {
      "cell_type": "markdown",
      "source": [
        "Task 5"
      ],
      "metadata": {
        "id": "VrHklDOEKlHf"
      }
    },
    {
      "cell_type": "code",
      "source": [
        "def helper_sum(root):\n",
        "  if root is None:\n",
        "      return 0\n",
        "\n",
        "  else:\n",
        "    return root.elem+helper_sum(root.left)+helper_sum(root.right)\n",
        "\n",
        "def subtract_summation(root):\n",
        "  #To Do\n",
        "  if root is None:\n",
        "    return 0\n",
        "\n",
        "  else:\n",
        "    left_sum=helper_sum(root.left)\n",
        "    right_sum=helper_sum(root.right)\n",
        "    output=left_sum-right_sum\n",
        "  return output\n",
        "\n",
        "\n",
        "\n",
        "#Driver Code\n",
        "root=BTNode(71)\n",
        "#Write other nodes by yourself from the given tree of Doc File\n",
        "root = BTNode(71)\n",
        "root.left = BTNode(27)\n",
        "root.right = BTNode(62)\n",
        "root.left.left = BTNode(80)\n",
        "root.left.right = BTNode(75)\n",
        "root.right.left = BTNode(41)\n",
        "root.right.right = BTNode(3)\n",
        "root.right.right.left = BTNode(19)\n",
        "root.right.right.right = BTNode(89)\n",
        "root.left.left.left = BTNode(87)\n",
        "root.left.left.right = BTNode(56)\n",
        "\n",
        "print(subtract_summation(root)) #This should print 111"
      ],
      "metadata": {
        "id": "dMXJ2qxkNn_F",
        "colab": {
          "base_uri": "https://localhost:8080/"
        },
        "outputId": "d9c86468-8576-4c73-992e-9ed1544dedef"
      },
      "execution_count": 25,
      "outputs": [
        {
          "output_type": "stream",
          "name": "stdout",
          "text": [
            "111\n"
          ]
        }
      ]
    },
    {
      "cell_type": "markdown",
      "metadata": {
        "id": "SBD-0xoZP_ni"
      },
      "source": [
        "Task 6"
      ]
    },
    {
      "cell_type": "code",
      "source": [
        "def helper(root,level):\n",
        "  if root is None:\n",
        "    return 0\n",
        "\n",
        "  if level%2==1:\n",
        "    sum=root.elem\n",
        "  else:\n",
        "    sum=0-root.elem\n",
        "\n",
        "  left=helper(root.left,level+1)\n",
        "  right=helper(root.right,level+1)\n",
        "\n",
        "  return sum+left+right\n",
        "\n",
        "def level_sum(root):\n",
        "  #To Do\n",
        "    return helper(root,0)\n",
        "\n",
        "#DRIVER CODE\n",
        "root = BTNode(1)\n",
        "n2 = BTNode(2)\n",
        "n3 = BTNode(3)\n",
        "n4 = BTNode(4)\n",
        "n5 = BTNode(5)\n",
        "n6 = BTNode(6)\n",
        "n7 = BTNode(7)\n",
        "n8 = BTNode(8)\n",
        "root.left = n2\n",
        "root.right = n3\n",
        "\n",
        "n2.left = n4\n",
        "n3.left = n5\n",
        "n3.right = n6\n",
        "\n",
        "n5.left = n7\n",
        "n5.right = n8\n",
        "\n",
        "\n",
        "print(level_sum(root)) #This should print 4"
      ],
      "metadata": {
        "id": "U_LYhaRIxZCb",
        "colab": {
          "base_uri": "https://localhost:8080/"
        },
        "outputId": "7e4ebbfb-f816-4426-bf0d-601d29d26c49"
      },
      "execution_count": 26,
      "outputs": [
        {
          "output_type": "stream",
          "name": "stdout",
          "text": [
            "4\n"
          ]
        }
      ]
    }
  ],
  "metadata": {
    "colab": {
      "provenance": []
    },
    "kernelspec": {
      "display_name": "Python 3",
      "name": "python3"
    },
    "language_info": {
      "name": "python"
    }
  },
  "nbformat": 4,
  "nbformat_minor": 0
}